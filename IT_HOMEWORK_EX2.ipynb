{
 "cells": [
  {
   "cell_type": "code",
   "execution_count": null,
   "metadata": {},
   "outputs": [],
   "source": [
    "#4.6 Задачи\n",
    "# 1 среднее\n",
    "#дано:\n",
    "#3 случайных числа\n",
    "#задание:\n",
    "#написать прогу, которая будет вычислять среднее значение этих чисел\n",
    "#example (52 + 56 + 60) / 3 = 56\n",
    "\n",
    "# Пример генерации случайных чисел.\n",
    "#from random import randint\n",
    "\n",
    "#print(randint(0, 100))\n",
    "#print(randint(0, 100))"
   ]
  },
  {
   "cell_type": "code",
   "execution_count": 9,
   "metadata": {},
   "outputs": [
    {
     "name": "stdout",
     "output_type": "stream",
     "text": [
      "40\n",
      "6\n",
      "71\n",
      "39.0\n"
     ]
    }
   ],
   "source": [
    "#решенее\n",
    "\n",
    "from random import randint\n",
    "\n",
    "NUMB_ONE = randint(0, 100)\n",
    "NUMB_TWO = randint(0, 100)\n",
    "NUMB_THREE = randint(0, 100)\n",
    "\n",
    "AVERAGE_NUMB = (NUMB_ONE + NUMB_TWO + NUMB_THREE) / 3\n",
    "\n",
    "print(NUMB_ONE)\n",
    "print(NUMB_TWO)\n",
    "print(NUMB_THREE)\n",
    "print(AVERAGE_NUMB)"
   ]
  },
  {
   "cell_type": "code",
   "execution_count": 11,
   "metadata": {},
   "outputs": [],
   "source": [
    "# 2 деление и ещё раз деление\n",
    "#дано:\n",
    "#2 случайных числа\n",
    "#задание:\n",
    "#написать прогу, которая будет печатать результат целочисленного деления этих чисел\n",
    "#а также остаток от деления первого от второго\n",
    "#example:\n",
    "#x = 177 y = 10\n",
    "#solution:\n",
    "#17, 7"
   ]
  },
  {
   "cell_type": "code",
   "execution_count": 14,
   "metadata": {},
   "outputs": [
    {
     "name": "stdout",
     "output_type": "stream",
     "text": [
      "48\n",
      "76\n",
      "0, 48\n"
     ]
    }
   ],
   "source": [
    "#решенее\n",
    "\n",
    "from random import randint\n",
    "\n",
    "NUMB_ONE = randint(0, 100)\n",
    "NUMB_TWO = randint(0, 100)\n",
    "\n",
    "print(NUMB_ONE)\n",
    "print(NUMB_TWO)\n",
    "\n",
    "\n",
    "print(str(NUMB_ONE // NUMB_TWO) + \",\" ,NUMB_ONE % NUMB_TWO)"
   ]
  },
  {
   "cell_type": "code",
   "execution_count": 15,
   "metadata": {},
   "outputs": [],
   "source": [
    "# 3 округление\n",
    "#дано:\n",
    "#число с плавающей точкой\n",
    "#задание:\n",
    "#написать прогу, которая будет округлять заданное число\n",
    "# 1) 2х знаков после запятой\n",
    "# 2) до целого\n",
    "# 3) дополнять слева столько нулей, сколько не зватает числу до 11 знаков\n",
    "# example:\n",
    "# x = 14.721\n",
    "# solution:\n",
    "# 1) 14.72\n",
    "# 2) 15\n",
    "# 3) 0000014.721"
   ]
  },
  {
   "cell_type": "code",
   "execution_count": null,
   "metadata": {},
   "outputs": [
    {
     "name": "stdout",
     "output_type": "stream",
     "text": [
      "5.78\n",
      "6\n",
      "0005.784539\n"
     ]
    }
   ],
   "source": [
    "#решенее\n",
    "\n",
    "NUMB_FLOAT = 5.784539\n",
    "\n",
    "print(round(NUMB_FLOAT,2))\n",
    "print(round(NUMB_FLOAT))\n",
    "print(f\"{NUMB_FLOAT:011}\")"
   ]
  },
  {
   "cell_type": "code",
   "execution_count": null,
   "metadata": {},
   "outputs": [],
   "source": [
    "# 4 число \"наоборот\"\n",
    "# дано:\n",
    "# целое число(int)\n",
    "# задание:\n",
    "# написать прогу, которая будет инвертировать целое число\n",
    "# example:\n",
    "# 1) x = 123 ->321\n",
    "# 2) x = -325 -> -523\n",
    "# 3) x = 0 -> 0\n",
    "#\n",
    "#"
   ]
  },
  {
   "cell_type": "code",
   "execution_count": null,
   "metadata": {},
   "outputs": [
    {
     "name": "stdout",
     "output_type": "stream",
     "text": [
      "876\n",
      "-123\n",
      "0\n"
     ]
    }
   ],
   "source": [
    "#решение\n",
    "\n",
    "NUMB_ONE = 678\n",
    "NUMB_TWO = -321\n",
    "NUMB_THREE = 0\n",
    "\n",
    "def reverse(NUMB_REVERSED):\n",
    "\n",
    "    NUMB_TEMP = 0\n",
    "\n",
    "    if NUMB_REVERSED >= 0:\n",
    "        NUMB_TEMP = str(NUMB_REVERSED)[::-1]\n",
    "    else:\n",
    "        NUMB_TEMP = \"-\" + str(abs(NUMB_REVERSED))[::-1]\n",
    "\n",
    "    return int(NUMB_TEMP)\n",
    "\n",
    "\n",
    "print(reverse(NUMB_ONE))\n",
    "print(reverse(NUMB_TWO))\n",
    "print(reverse(NUMB_THREE))"
   ]
  },
  {
   "cell_type": "code",
   "execution_count": 23,
   "metadata": {},
   "outputs": [],
   "source": [
    "# 5 число \"наоборот\" (усложнённое)\n",
    "# дано:\n",
    "# целое число (int)\n",
    "# задание:\n",
    "# написать прогу, которая будет инвертировать целое число.\n",
    "# Если инвертированное число выходит за границы (32-bit integer), то вернуть 0\n",
    "# example:\n",
    "# 1) x = 123 -> 321\n",
    "# 2) x = -325 -> -523\n",
    "# 3) x = 0 -> 0\n",
    "# 4) x = 1563847412 -> 0"
   ]
  },
  {
   "cell_type": "code",
   "execution_count": 25,
   "metadata": {},
   "outputs": [
    {
     "name": "stdout",
     "output_type": "stream",
     "text": [
      "876\n",
      "-123\n",
      "0\n",
      "0\n"
     ]
    }
   ],
   "source": [
    "#решение\n",
    "\n",
    "NUMB_ONE = 678\n",
    "NUMB_TWO = -321\n",
    "NUMB_THREE = 0\n",
    "NUMB_FOUR = 69547984657\n",
    "\n",
    "BORDER_OF_32BIT = 2 ** 31 - 1\n",
    "\n",
    "def reverse(NUMB_REVERSED):\n",
    "    \n",
    "    NUMB_TEMP = 0\n",
    "\n",
    "    if NUMB_REVERSED >= 0:\n",
    "        NUMB_TEMP = str(NUMB_REVERSED)[::-1]\n",
    "    else:\n",
    "        NUMB_TEMP = \"-\" + str(abs(NUMB_REVERSED))[::-1]\n",
    "\n",
    "    if int(NUMB_TEMP) > BORDER_OF_32BIT:\n",
    "        return 0\n",
    "    \n",
    "    return int(NUMB_TEMP)\n",
    "\n",
    "\n",
    "print(reverse(NUMB_ONE))\n",
    "print(reverse(NUMB_TWO))\n",
    "print(reverse(NUMB_THREE))\n",
    "print(reverse(NUMB_FOUR))"
   ]
  },
  {
   "cell_type": "code",
   "execution_count": null,
   "metadata": {},
   "outputs": [],
   "source": []
  }
 ],
 "metadata": {
  "kernelspec": {
   "display_name": "Python 3",
   "language": "python",
   "name": "python3"
  },
  "language_info": {
   "codemirror_mode": {
    "name": "ipython",
    "version": 3
   },
   "file_extension": ".py",
   "mimetype": "text/x-python",
   "name": "python",
   "nbconvert_exporter": "python",
   "pygments_lexer": "ipython3",
   "version": "3.11.9"
  }
 },
 "nbformat": 4,
 "nbformat_minor": 2
}
